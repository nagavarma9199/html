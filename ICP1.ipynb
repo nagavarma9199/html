{
  "nbformat": 4,
  "nbformat_minor": 0,
  "metadata": {
    "colab": {
      "provenance": [],
      "include_colab_link": true
    },
    "kernelspec": {
      "name": "python3",
      "display_name": "Python 3"
    },
    "language_info": {
      "name": "python"
    }
  },
  "cells": [
    {
      "cell_type": "markdown",
      "metadata": {
        "id": "view-in-github",
        "colab_type": "text"
      },
      "source": [
        "<a href=\"https://colab.research.google.com/github/nagavarma9199/html/blob/master/ICP1.ipynb\" target=\"_parent\"><img src=\"https://colab.research.google.com/assets/colab-badge.svg\" alt=\"Open In Colab\"/></a>"
      ]
    },
    {
      "cell_type": "code",
      "execution_count": 4,
      "metadata": {
        "colab": {
          "base_uri": "https://localhost:8080/"
        },
        "id": "kVH_1Cjx5fuA",
        "outputId": "84ed046d-0183-4a5c-d38a-5740a1a8ae88"
      },
      "outputs": [
        {
          "output_type": "stream",
          "name": "stdout",
          "text": [
            "python\n",
            "noht\n"
          ]
        }
      ],
      "source": [
        "text=list(input())\n",
        "b=\"\"\n",
        "for i in range (len(text)-1,1,-1):\n",
        "  b=b+\"\".join(str(text[i]))\n",
        "print(b)"
      ]
    },
    {
      "cell_type": "code",
      "source": [
        "a = int(input())\n",
        "b= int(input())\n",
        "\n",
        "print(a+b)\n",
        "print(a-b)\n",
        "print(a*b)\n",
        "print(a/b)"
      ],
      "metadata": {
        "colab": {
          "base_uri": "https://localhost:8080/"
        },
        "id": "P9O9ULui-C8k",
        "outputId": "f94ee36d-7024-4ab5-e1e1-290c8bffd4f1"
      },
      "execution_count": null,
      "outputs": [
        {
          "output_type": "stream",
          "name": "stdout",
          "text": [
            "1\n",
            "2\n",
            "3\n",
            "-1\n",
            "2\n",
            "0.5\n"
          ]
        }
      ]
    },
    {
      "cell_type": "code",
      "source": [
        "sentence = input()\n",
        "print(sentence.replace('python', 'pythons'))"
      ],
      "metadata": {
        "colab": {
          "base_uri": "https://localhost:8080/"
        },
        "id": "J4kbFjpq-X3-",
        "outputId": "fbfbfb84-b168-4b5c-e42c-c396ad9b89f9"
      },
      "execution_count": 3,
      "outputs": [
        {
          "output_type": "stream",
          "name": "stdout",
          "text": [
            "i love python\n",
            "i love pythons\n"
          ]
        }
      ]
    },
    {
      "cell_type": "code",
      "source": [
        "score = int(input())\n",
        "\n",
        "if(score> 90):\n",
        "  print(\"A\")\n",
        "elif((score>80) and (a<90)):\n",
        "  print(\"B\")\n",
        "elif((score>70) and (score<80)):\n",
        "  print(\"C\")\n",
        "elif((score>60) and (score<70)):\n",
        "  print(\"D\")\n",
        "else:\n",
        "  print(\"F\")\n",
        "\n"
      ],
      "metadata": {
        "colab": {
          "base_uri": "https://localhost:8080/"
        },
        "id": "Dy-v-O1O_tcs",
        "outputId": "7a537c2d-dd16-4f01-d846-73cad0dea41c"
      },
      "execution_count": 1,
      "outputs": [
        {
          "output_type": "stream",
          "name": "stdout",
          "text": [
            "2\n",
            "F\n"
          ]
        }
      ]
    }
  ]
}